{
 "cells": [
  {
   "cell_type": "markdown",
   "id": "859b42b3-deba-4384-aaf6-4bf26701dad5",
   "metadata": {},
   "source": [
    "# Computational Linguistics subject\n",
    "## Practise\n",
    "### Introduction\n",
    "I love this subject!"
   ]
  },
  {
   "cell_type": "code",
   "execution_count": null,
   "id": "c1ed9375-21f7-457a-8ca6-0ecfcebecb49",
   "metadata": {},
   "outputs": [],
   "source": [
    "print('Hello word!');"
   ]
  },
  {
   "cell_type": "code",
   "execution_count": null,
   "id": "e96724a1-eaeb-4870-b3c2-deb111b6e9da",
   "metadata": {},
   "outputs": [],
   "source": [
    "print(hello)"
   ]
  },
  {
   "cell_type": "code",
   "execution_count": null,
   "id": "6703684d-5790-4a47-8f7c-f9c5f9e213db",
   "metadata": {},
   "outputs": [],
   "source": [
    "print(\"Hello world\")"
   ]
  },
  {
   "cell_type": "code",
   "execution_count": null,
   "id": "0e187c32-f2d6-4d86-8347-33a7758f7e56",
   "metadata": {},
   "outputs": [],
   "source": [
    "print('I\\'m 26')"
   ]
  },
  {
   "cell_type": "code",
   "execution_count": null,
   "id": "6be63891-6feb-4311-a798-318b65930a45",
   "metadata": {},
   "outputs": [],
   "source": [
    "print(\"I'm 26\")"
   ]
  },
  {
   "cell_type": "code",
   "execution_count": null,
   "id": "f869ef80",
   "metadata": {},
   "outputs": [],
   "source": [
    "ciao"
   ]
  }
 ],
 "metadata": {
  "kernelspec": {
   "display_name": "Python 3 (ipykernel)",
   "language": "python",
   "name": "python3"
  },
  "language_info": {
   "codemirror_mode": {
    "name": "ipython",
    "version": 3
   },
   "file_extension": ".py",
   "mimetype": "text/x-python",
   "name": "python",
   "nbconvert_exporter": "python",
   "pygments_lexer": "ipython3",
   "version": "3.9.13"
  }
 },
 "nbformat": 4,
 "nbformat_minor": 5
}
